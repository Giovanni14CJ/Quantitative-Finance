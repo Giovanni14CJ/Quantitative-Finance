{
 "cells": [
  {
   "cell_type": "code",
   "execution_count": 2,
   "metadata": {},
   "outputs": [],
   "source": [
    "#Se importan las dependencias necesarias a utilizar\n",
    "import numpy as np\n",
    "from scipy.stats import norm\n"
   ]
  },
  {
   "cell_type": "code",
   "execution_count": 26,
   "metadata": {},
   "outputs": [],
   "source": [
    "#Definimos la función de la formula BlackScholes para el cálculo de una opción PUT o CALL\n",
    "def black_scholes(r, S, K, t, sd, tipo=\"call\"): \n",
    "#Donde: \n",
    "#\"r\" es la tasa libre de riesgo\n",
    "#\"S\" es el precio del activo subyacente\n",
    "#\"K\" es el precio mínimo o precio del ejercicio\n",
    "#\"t\" es el tiempo de vencimiento\n",
    "#\"sd\" es la desviación estandar, volatilidad o riesgo\n",
    "#\"tipo\" es el tipo de activo subyacente\n",
    "    d1=(np.log(S/K)+(r+0.5*sd**2)*t)/(sd*np.sqrt(t))\n",
    "    d2=d1-sd*np.sqrt(t)\n",
    "    if tipo==\"call\":\n",
    "        precio=S*norm.cdf(d1, 0, 1)-K*np.exp(-r*t)*norm.cdf(d2, 0, 1)\n",
    "    else:\n",
    "        precio=K*np.exp(-r*t)*norm.cdf(-d2, 0, 1)-S*norm.cdf(-d1, 0, 1)\n",
    "    return precio"
   ]
  },
  {
   "cell_type": "code",
   "execution_count": 27,
   "metadata": {},
   "outputs": [
    {
     "name": "stdout",
     "output_type": "stream",
     "text": [
      "El valor de cada accion es: $ 0.6605201251686745\n"
     ]
    }
   ],
   "source": [
    "print(\"El valor de cada accion es: $\", (black_scholes(0.0005, 30, 24, 0.5, 0.35, \"put\")))"
   ]
  }
 ],
 "metadata": {
  "kernelspec": {
   "display_name": "Python 3",
   "language": "python",
   "name": "python3"
  },
  "language_info": {
   "codemirror_mode": {
    "name": "ipython",
    "version": 3
   },
   "file_extension": ".py",
   "mimetype": "text/x-python",
   "name": "python",
   "nbconvert_exporter": "python",
   "pygments_lexer": "ipython3",
   "version": "3.12.2"
  }
 },
 "nbformat": 4,
 "nbformat_minor": 2
}
